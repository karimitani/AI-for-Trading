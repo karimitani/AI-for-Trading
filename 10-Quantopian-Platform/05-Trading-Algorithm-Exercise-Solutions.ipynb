{
 "cells": [
  {
   "cell_type": "markdown",
   "metadata": {},
   "source": [
   ]
  },
  {
   "cell_type": "code",
   "execution_count": null,
   "metadata": {
    "collapsed": true
   },
   "outputs": [],
   "source": [
    "# Setup our variables\n",
    "def initialize(context):\n",
    "    context.jj = sid(4151)\n",
    "\n",
    "    schedule_function(check_bands,date_rules.every_day())\n",
    "        \n",
    "def check_bands(context, data):\n",
    "    \n",
    "    cur_price = data.current(context.jj,'price')\n",
    "    \n",
    "    # Load historical data for the stocks\n",
    "    prices = data.history(context.jj,'price', 20 , '1d')\n",
    "    \n",
    "    avg = prices.mean()\n",
    "    std = prices.std()\n",
    "    lower_band = avg - 2*std\n",
    "    upper_band = avg + 2*std\n",
    "    \n",
    "    if cur_price <= lower_band:\n",
    "        order_target_percent(context.jj, 1.0)\n",
    "        print('Buying')\n",
    "        print('Current price is: ' + str(cur_price))\n",
    "        print(\"Lower band is: \"+str(lower_band))\n",
    "        \n",
    "        \n",
    "    elif cur_price >= upper_band:\n",
    "        order_target_percent(context.jj, -1.0)\n",
    "        print('Shorting')\n",
    "        print('Current price is: ' + str(cur_price))\n",
    "        print(\"Upper band is: \"+str(upper_band))\n",
    "    else:\n",
    "        pass\n",
    "        \n",
    "    record(upper=upper_band,\n",
    "           lower=lower_band,\n",
    "           mvag_20=avg,\n",
    "           price=cur_price)"
   ]
  }
 ],
 "metadata": {
  "anaconda-cloud": {},
  "kernelspec": {
   "display_name": "Python 3",
   "language": "python",
   "name": "python3"
  },
  "language_info": {
   "codemirror_mode": {
    "name": "ipython",
    "version": 3
   },
   "file_extension": ".py",
   "mimetype": "text/x-python",
   "name": "python",
   "nbconvert_exporter": "python",
   "pygments_lexer": "ipython3",
   "version": "3.6.1"
  }
 },
 "nbformat": 4,
 "nbformat_minor": 1
}
